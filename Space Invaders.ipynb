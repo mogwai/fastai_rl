{
 "cells": [
  {
   "cell_type": "code",
   "execution_count": 1,
   "metadata": {},
   "outputs": [],
   "source": [
    "import gym\n",
    "from gym import wrappers\n",
    "import io\n",
    "import base64\n",
    "import fastai\n",
    "import fastprogress\n",
    "from fastai.vision import *\n",
    "from IPython import display\n",
    "from IPython.display import HTML"
   ]
  },
  {
   "cell_type": "markdown",
   "metadata": {},
   "source": [
    "# Save and load video"
   ]
  },
  {
   "cell_type": "markdown",
   "metadata": {},
   "source": [
    "```\n",
    "env = wrappers.Monitor(env, \"./gym-results\", force=True)\n",
    "\n",
    "video = io.open('./gym-results/openaigym.video.%s.video000000.mp4' % env.file_infix, 'r+b').read()\n",
    "encoded = base64.b64encode(video)\n",
    "HTML(data='''\n",
    "    <video width=\"360\" height=\"auto\" alt=\"test\" controls><source src=\"data:video/mp4;base64,{0}\" type=\"video/mp4\" /></video>'''\n",
    ".format(encoded.decode('ascii')))\n",
    "```"
   ]
  },
  {
   "cell_type": "markdown",
   "metadata": {},
   "source": [
    "# Show image while playing"
   ]
  },
  {
   "cell_type": "code",
   "execution_count": 2,
   "metadata": {
    "scrolled": false
   },
   "outputs": [],
   "source": [
    "# observation, reward, done, info = env.step(action)\n",
    "def prep(t):\n",
    "    return (t.float()/255.0).expand(3,-1,-1)\n",
    "\n",
    "def create_tensor(observation):\n",
    "    t = pil2tensor(observation, dtype=np.uint8)\n",
    "    t = t[:,23:196,:]\n",
    "    return t\n",
    "\n",
    "def show_frame(img, t):\n",
    "    img.set_data(image2np(t)) # just update the data\n",
    "    display.display(plt.gcf())\n",
    "    display.clear_output(wait=True)\n",
    "\n",
    "def game_stats(game):\n",
    "    pass"
   ]
  },
  {
   "cell_type": "code",
   "execution_count": 3,
   "metadata": {},
   "outputs": [],
   "source": [
    "def get_action(dist):\n",
    "    tp = 0\n",
    "    x = random.random()\n",
    "    i = 0\n",
    "    for p in dist:\n",
    "        tp += p\n",
    "        if x <= tp:\n",
    "            return i\n",
    "        i+=1\n",
    "    return i"
   ]
  },
  {
   "cell_type": "code",
   "execution_count": 15,
   "metadata": {},
   "outputs": [],
   "source": [
    "def play_one(env, model, max_frames=1000, show=False):\n",
    "    if show: img = plt.imshow(env.render(mode='rgb_array')) # only call this once\n",
    "    observation = create_tensor(env.reset())\n",
    "    O,A,R = [],[],[]\n",
    "    for _ in range(max_frames):\n",
    "        action = env.action_space.sample()\n",
    "        if model is None: action = env.action_space.sample()\n",
    "        else: \n",
    "            x = prep(observation)[None].cuda().expand(2,-1,-1,-1)\n",
    "            res = model(x)[0]\n",
    "            print(res)\n",
    "            res = torch.functional.F.log_softmax(res)\n",
    "            action = get_action(res)\n",
    "        state = env.step(action)\n",
    "        obs, reward, done, __ = state\n",
    "        O.append(observation)\n",
    "        A.append(action)\n",
    "        R.append(reward)\n",
    "        if done: break\n",
    "        observation = create_tensor(obs)\n",
    "        if show: show_frame(img, observation)\n",
    "    return O,A,R\n",
    "\n",
    "def play(model=None, number=100, **kwargs):\n",
    "    env = gym.make('SpaceInvaders-v0')\n",
    "    gs = []\n",
    "    for i in range(number):\n",
    "        gs.append(play_one(env, model, **kwargs))\n",
    "    env.close()\n",
    "    sums = np.array([sum(g[2]) for g in gs])\n",
    "    sums = (sums - np.mean(sums))/np.std(sums)\n",
    "    for i in range(len(sums)):\n",
    "        gs[i] = (*gs[i], sums[i])\n",
    "    return gs"
   ]
  },
  {
   "cell_type": "code",
   "execution_count": 5,
   "metadata": {},
   "outputs": [],
   "source": [
    "env = gym.make('SpaceInvaders-v0')\n",
    "classes = np.array(list(range(env.action_space.n)))\n",
    "env.close()"
   ]
  },
  {
   "cell_type": "code",
   "execution_count": 6,
   "metadata": {},
   "outputs": [],
   "source": [
    "def open_fn(self, i):\n",
    "    return Image(prep(i))\n",
    "\n",
    "ImageList.open = open_fn"
   ]
  },
  {
   "cell_type": "code",
   "execution_count": 7,
   "metadata": {},
   "outputs": [],
   "source": [
    "class PolicyActionList(MultiCategoryList):\n",
    "    loss_func = CrossEntropyFlat()\n",
    "    \n",
    "    def __init__(self, items, classes, good=True, **kwargs):\n",
    "        super().__init__(items, classes, **kwargs)\n",
    "        self.good = good\n",
    "    \n",
    "    def get(self, i):\n",
    "        ret = super().get(i)\n",
    "        if not self.good:\n",
    "             ret.data[ret.data==1]=-1\n",
    "        return ret"
   ]
  },
  {
   "cell_type": "code",
   "execution_count": 8,
   "metadata": {},
   "outputs": [],
   "source": [
    "def create_learner(data):\n",
    "    l = cnn_learner(data, models.resnet18, metrics=partial(accuracy_thresh, thresh=.8))\n",
    "    l.model[1] = nn.Sequential(*l.model[1], nn.Softmax(dim=0))\n",
    "    l.unfreeze()\n",
    "    l.summary()\n",
    "    return l"
   ]
  },
  {
   "cell_type": "code",
   "execution_count": 9,
   "metadata": {},
   "outputs": [],
   "source": [
    "def train_on_game(l, g, silent=True, its=5, lr=1e-3):\n",
    "    images, actions, rewards, total_rew = g\n",
    "    good = total_rew >= 0\n",
    "    imagelist = ImageList(images)\n",
    "    actions = [[a] for a in actions]\n",
    "    ll = LabelList(imagelist, PolicyActionList(actions, classes, good=good))\n",
    "    ll = LabelLists('.', ll, EmptyLabelList([]))\n",
    "    data = ll.databunch(bs=128)\n",
    "    if l is None: l = create_learner(data)\n",
    "    else: l.data = data\n",
    "    if silent: \n",
    "        with progress_disabled(l) as l:\n",
    "            l.fit_one_cycle(its, lr)\n",
    "    else: \n",
    "        l.fit_one_cycle(its, lr)\n",
    "    return l"
   ]
  },
  {
   "cell_type": "code",
   "execution_count": 10,
   "metadata": {},
   "outputs": [],
   "source": [
    "class progress_disabled():\n",
    "    ''' Context manager to disable the progress update bar and Recorder print'''\n",
    "    def __init__(self,learn:Learner):\n",
    "        self.learn = learn\n",
    "    def __enter__(self):\n",
    "        fastprogress.fastprogress.NO_BAR = True\n",
    "        fastai.basic_train.master_bar, fastai.basic_train.progress_bar = fastprogress.force_console_behavior()\n",
    "        self.learn.callback_fns[0] = partial(Recorder,add_time=True,silent=True) #silence recorder\n",
    "        \n",
    "        return self.learn\n",
    "    \n",
    "    def __exit__(self,type,value,traceback):\n",
    "        fastai.basic_train.master_bar, fastai.basic_train.progress_bar = master_bar,progress_bar\n",
    "        self.learn.callback_fns[0] = partial(Recorder,add_time=True)"
   ]
  },
  {
   "cell_type": "code",
   "execution_count": 11,
   "metadata": {
    "scrolled": false
   },
   "outputs": [
    {
     "name": "stderr",
     "output_type": "stream",
     "text": [
      "/home/h/miniconda3/envs/rl/lib/python3.7/site-packages/ipykernel_launcher.py:30: RuntimeWarning: invalid value encountered in true_divide\n"
     ]
    }
   ],
   "source": [
    "games = play(number=2)"
   ]
  },
  {
   "cell_type": "code",
   "execution_count": 12,
   "metadata": {},
   "outputs": [
    {
     "name": "stderr",
     "output_type": "stream",
     "text": [
      "/home/h/miniconda3/envs/rl/lib/python3.7/site-packages/fastai/data_block.py:454: UserWarning: Your validation set is empty. If this is by design, use `split_none()`\n",
      "                 or pass `ignore_empty=True` when labelling to remove this warning.\n",
      "  or pass `ignore_empty=True` when labelling to remove this warning.\"\"\")\n"
     ]
    }
   ],
   "source": [
    "learn = None\n",
    "for g in games:\n",
    "    learn = train_on_game(learn, g)\n",
    "    \n",
    "learn.save('rollout-resnet18')"
   ]
  },
  {
   "cell_type": "code",
   "execution_count": 13,
   "metadata": {
    "collapsed": true
   },
   "outputs": [
    {
     "data": {
      "text/plain": [
       "Sequential\n",
       "======================================================================\n",
       "Layer (type)         Output Shape         Param #    Trainable \n",
       "======================================================================\n",
       "Conv2d               [64, 87, 80]         9,408      True      \n",
       "______________________________________________________________________\n",
       "BatchNorm2d          [64, 87, 80]         128        True      \n",
       "______________________________________________________________________\n",
       "ReLU                 [64, 87, 80]         0          False     \n",
       "______________________________________________________________________\n",
       "MaxPool2d            [64, 44, 40]         0          False     \n",
       "______________________________________________________________________\n",
       "Conv2d               [64, 44, 40]         36,864     True      \n",
       "______________________________________________________________________\n",
       "BatchNorm2d          [64, 44, 40]         128        True      \n",
       "______________________________________________________________________\n",
       "ReLU                 [64, 44, 40]         0          False     \n",
       "______________________________________________________________________\n",
       "Conv2d               [64, 44, 40]         36,864     True      \n",
       "______________________________________________________________________\n",
       "BatchNorm2d          [64, 44, 40]         128        True      \n",
       "______________________________________________________________________\n",
       "Conv2d               [64, 44, 40]         36,864     True      \n",
       "______________________________________________________________________\n",
       "BatchNorm2d          [64, 44, 40]         128        True      \n",
       "______________________________________________________________________\n",
       "ReLU                 [64, 44, 40]         0          False     \n",
       "______________________________________________________________________\n",
       "Conv2d               [64, 44, 40]         36,864     True      \n",
       "______________________________________________________________________\n",
       "BatchNorm2d          [64, 44, 40]         128        True      \n",
       "______________________________________________________________________\n",
       "Conv2d               [128, 22, 20]        73,728     True      \n",
       "______________________________________________________________________\n",
       "BatchNorm2d          [128, 22, 20]        256        True      \n",
       "______________________________________________________________________\n",
       "ReLU                 [128, 22, 20]        0          False     \n",
       "______________________________________________________________________\n",
       "Conv2d               [128, 22, 20]        147,456    True      \n",
       "______________________________________________________________________\n",
       "BatchNorm2d          [128, 22, 20]        256        True      \n",
       "______________________________________________________________________\n",
       "Conv2d               [128, 22, 20]        8,192      True      \n",
       "______________________________________________________________________\n",
       "BatchNorm2d          [128, 22, 20]        256        True      \n",
       "______________________________________________________________________\n",
       "Conv2d               [128, 22, 20]        147,456    True      \n",
       "______________________________________________________________________\n",
       "BatchNorm2d          [128, 22, 20]        256        True      \n",
       "______________________________________________________________________\n",
       "ReLU                 [128, 22, 20]        0          False     \n",
       "______________________________________________________________________\n",
       "Conv2d               [128, 22, 20]        147,456    True      \n",
       "______________________________________________________________________\n",
       "BatchNorm2d          [128, 22, 20]        256        True      \n",
       "______________________________________________________________________\n",
       "Conv2d               [256, 11, 10]        294,912    True      \n",
       "______________________________________________________________________\n",
       "BatchNorm2d          [256, 11, 10]        512        True      \n",
       "______________________________________________________________________\n",
       "ReLU                 [256, 11, 10]        0          False     \n",
       "______________________________________________________________________\n",
       "Conv2d               [256, 11, 10]        589,824    True      \n",
       "______________________________________________________________________\n",
       "BatchNorm2d          [256, 11, 10]        512        True      \n",
       "______________________________________________________________________\n",
       "Conv2d               [256, 11, 10]        32,768     True      \n",
       "______________________________________________________________________\n",
       "BatchNorm2d          [256, 11, 10]        512        True      \n",
       "______________________________________________________________________\n",
       "Conv2d               [256, 11, 10]        589,824    True      \n",
       "______________________________________________________________________\n",
       "BatchNorm2d          [256, 11, 10]        512        True      \n",
       "______________________________________________________________________\n",
       "ReLU                 [256, 11, 10]        0          False     \n",
       "______________________________________________________________________\n",
       "Conv2d               [256, 11, 10]        589,824    True      \n",
       "______________________________________________________________________\n",
       "BatchNorm2d          [256, 11, 10]        512        True      \n",
       "______________________________________________________________________\n",
       "Conv2d               [512, 6, 5]          1,179,648  True      \n",
       "______________________________________________________________________\n",
       "BatchNorm2d          [512, 6, 5]          1,024      True      \n",
       "______________________________________________________________________\n",
       "ReLU                 [512, 6, 5]          0          False     \n",
       "______________________________________________________________________\n",
       "Conv2d               [512, 6, 5]          2,359,296  True      \n",
       "______________________________________________________________________\n",
       "BatchNorm2d          [512, 6, 5]          1,024      True      \n",
       "______________________________________________________________________\n",
       "Conv2d               [512, 6, 5]          131,072    True      \n",
       "______________________________________________________________________\n",
       "BatchNorm2d          [512, 6, 5]          1,024      True      \n",
       "______________________________________________________________________\n",
       "Conv2d               [512, 6, 5]          2,359,296  True      \n",
       "______________________________________________________________________\n",
       "BatchNorm2d          [512, 6, 5]          1,024      True      \n",
       "______________________________________________________________________\n",
       "ReLU                 [512, 6, 5]          0          False     \n",
       "______________________________________________________________________\n",
       "Conv2d               [512, 6, 5]          2,359,296  True      \n",
       "______________________________________________________________________\n",
       "BatchNorm2d          [512, 6, 5]          1,024      True      \n",
       "______________________________________________________________________\n",
       "AdaptiveAvgPool2d    [512, 1, 1]          0          False     \n",
       "______________________________________________________________________\n",
       "AdaptiveMaxPool2d    [512, 1, 1]          0          False     \n",
       "______________________________________________________________________\n",
       "Flatten              [1024]               0          False     \n",
       "______________________________________________________________________\n",
       "BatchNorm1d          [1024]               2,048      True      \n",
       "______________________________________________________________________\n",
       "Dropout              [1024]               0          False     \n",
       "______________________________________________________________________\n",
       "Linear               [512]                524,800    True      \n",
       "______________________________________________________________________\n",
       "ReLU                 [512]                0          False     \n",
       "______________________________________________________________________\n",
       "BatchNorm1d          [512]                1,024      True      \n",
       "______________________________________________________________________\n",
       "Dropout              [512]                0          False     \n",
       "______________________________________________________________________\n",
       "Linear               [6]                  3,078      True      \n",
       "______________________________________________________________________\n",
       "Softmax              [6]                  0          False     \n",
       "______________________________________________________________________\n",
       "\n",
       "Total params: 11,707,462\n",
       "Total trainable params: 11,707,462\n",
       "Total non-trainable params: 0\n",
       "Optimized with 'torch.optim.adam.Adam', betas=(0.9, 0.99)\n",
       "Using true weight decay as discussed in https://www.fast.ai/2018/07/02/adam-weight-decay/ \n",
       "Loss function : FlattenedLoss\n",
       "======================================================================\n",
       "Callbacks functions applied "
      ]
     },
     "execution_count": 13,
     "metadata": {},
     "output_type": "execute_result"
    }
   ],
   "source": [
    "learn.summary()"
   ]
  },
  {
   "cell_type": "code",
   "execution_count": null,
   "metadata": {
    "scrolled": false
   },
   "outputs": [],
   "source": [
    "# del games\n",
    "import gc\n",
    "gc.collect()\n",
    "learn.load('rollout-resnet18')\n",
    "\n",
    "def stats(sums):\n",
    "    print(\"Mean: \", np.mean(sums))\n",
    "    print(\"std: \", np.std(sums))\n",
    "    print(\"max :\", np.max(sums))\n",
    "    print(\"min :\", np.min(sums))\n",
    "\n",
    "for i in range(50):\n",
    "    print(i)\n",
    "    games = play(learn.model, number=10)\n",
    "    sums = []\n",
    "    stats([sum(g[-2]) for g in games])\n",
    "    for g in games:\n",
    "        learn = train_on_game(learn, g, silent=False)\n",
    "    print(\"==============\")"
   ]
  },
  {
   "cell_type": "code",
   "execution_count": null,
   "metadata": {},
   "outputs": [],
   "source": [
    "env = gym.make('SpaceInvaders-v0')\n",
    "_, __, rewards = play_one(env, learn.model, show=True)\n",
    "print(\"Score:\", sum(rewards))\n",
    "env.close()"
   ]
  },
  {
   "cell_type": "code",
   "execution_count": null,
   "metadata": {},
   "outputs": [],
   "source": []
  }
 ],
 "metadata": {
  "kernelspec": {
   "display_name": "Python 3",
   "language": "python",
   "name": "python3"
  },
  "language_info": {
   "codemirror_mode": {
    "name": "ipython",
    "version": 3
   },
   "file_extension": ".py",
   "mimetype": "text/x-python",
   "name": "python",
   "nbconvert_exporter": "python",
   "pygments_lexer": "ipython3",
   "version": "3.6.8"
  },
  "varInspector": {
   "cols": {
    "lenName": 16,
    "lenType": 16,
    "lenVar": 40
   },
   "kernels_config": {
    "python": {
     "delete_cmd_postfix": "",
     "delete_cmd_prefix": "del ",
     "library": "var_list.py",
     "varRefreshCmd": "print(var_dic_list())"
    },
    "r": {
     "delete_cmd_postfix": ") ",
     "delete_cmd_prefix": "rm(",
     "library": "var_list.r",
     "varRefreshCmd": "cat(var_dic_list()) "
    }
   },
   "types_to_exclude": [
    "module",
    "function",
    "builtin_function_or_method",
    "instance",
    "_Feature"
   ],
   "window_display": false
  }
 },
 "nbformat": 4,
 "nbformat_minor": 2
}
